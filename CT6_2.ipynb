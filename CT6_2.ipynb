{
  "nbformat": 4,
  "nbformat_minor": 0,
  "metadata": {
    "colab": {
      "provenance": [],
      "authorship_tag": "ABX9TyMSFknwrDWEi+n9+7fSencn",
      "include_colab_link": true
    },
    "kernelspec": {
      "name": "python3",
      "display_name": "Python 3"
    },
    "language_info": {
      "name": "python"
    }
  },
  "cells": [
    {
      "cell_type": "markdown",
      "metadata": {
        "id": "view-in-github",
        "colab_type": "text"
      },
      "source": [
        "<a href=\"https://colab.research.google.com/github/sldfclx/dltlqkf/blob/main/CT6_2.ipynb\" target=\"_parent\"><img src=\"https://colab.research.google.com/assets/colab-badge.svg\" alt=\"Open In Colab\"/></a>"
      ]
    },
    {
      "cell_type": "markdown",
      "source": [
        "학생 10명의 성적을 입력받아 평균을 계산하는 알고리즘을 의사코드로 표현해보자"
      ],
      "metadata": {
        "id": "Rm0NZPeGhj02"
      }
    },
    {
      "cell_type": "code",
      "execution_count": 23,
      "metadata": {
        "colab": {
          "base_uri": "https://localhost:8080/"
        },
        "id": "2T1HZBElXj4Y",
        "outputId": "05091bc2-aee3-4359-c0aa-32a42fb0ea51"
      },
      "outputs": [
        {
          "output_type": "stream",
          "name": "stdout",
          "text": [
            "성적;415\n",
            "성적;153\n",
            "성적;468\n",
            "성적;1350\n",
            "성적;5468\n",
            "성적;153\n",
            "성적;41588\n",
            "성적;150\n",
            "성적;4854\n",
            "성적;1358\n",
            "5595.7\n"
          ]
        }
      ],
      "source": [
        "total = 0                               #total값 0에서 시작\n",
        "counter = 1   \n",
        "while counter <= 10:                    #10번 반복해라\n",
        "  grade = int(input(\"성적;\"))           #성적을 정수로 입력해라\n",
        "  total += grade                        #total에 입력값을 더하고 저장\n",
        "  counter += 1                            #반복횟수 저장\n",
        "average = total/10                      #10개로 평균값을 나눠라\n",
        "print(average)                          #average값 출력"
      ]
    },
    {
      "cell_type": "code",
      "source": [],
      "metadata": {
        "id": "8Rxw1WMjiG0U"
      },
      "execution_count": null,
      "outputs": []
    }
  ]
}