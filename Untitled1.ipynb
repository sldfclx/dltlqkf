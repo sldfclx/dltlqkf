{
  "nbformat": 4,
  "nbformat_minor": 0,
  "metadata": {
    "colab": {
      "provenance": [],
      "authorship_tag": "ABX9TyOuy0cveBhRBTK+Nd2Ho0jf",
      "include_colab_link": true
    },
    "kernelspec": {
      "name": "python3",
      "display_name": "Python 3"
    },
    "language_info": {
      "name": "python"
    }
  },
  "cells": [
    {
      "cell_type": "markdown",
      "metadata": {
        "id": "view-in-github",
        "colab_type": "text"
      },
      "source": [
        "<a href=\"https://colab.research.google.com/github/sldfclx/dltlqkf/blob/main/Untitled1.ipynb\" target=\"_parent\"><img src=\"https://colab.research.google.com/assets/colab-badge.svg\" alt=\"Open In Colab\"/></a>"
      ]
    },
    {
      "cell_type": "code",
      "execution_count": 2,
      "metadata": {
        "colab": {
          "base_uri": "https://localhost:8080/"
        },
        "id": "c6xQgFHZ6qEC",
        "outputId": "9464542d-5b0a-4ac8-8413-a55b7f48a90f"
      },
      "outputs": [
        {
          "output_type": "stream",
          "name": "stdout",
          "text": [
            "아바타\n",
            "타이타닉\n",
            "스타워즈\n",
            "주라기 월드\n",
            "어벤져스\n"
          ]
        }
      ],
      "source": [
        "movie_list = [\"아바타\",\"타이타닉\", \"스타워즈\", \"주라기 월드\", \"어벤져스\"]\n",
        "print(movie_list[0])\n",
        "print(movie_list[1])\n",
        "print(movie_list[2])\n",
        "print(movie_list[3])\n",
        "print(movie_list[4])"
      ]
    }
  ]
}